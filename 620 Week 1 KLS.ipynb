{
 "cells": [
  {
   "cell_type": "markdown",
   "metadata": {},
   "source": [
    "# <b><u>Assignment: \"hello, graph world\"</b></u>\n",
    "## <i>Kelly Shaffer</i>\n",
    "## <i>Week 1 of DATA620</i>\n",
    "\n",
    "\"When software developers are starting to work in a new environment, they are encouraged to start with a simple “beachhead” program.\n",
    "In this assignment, you’re asked to create the nodes and edges for a basic graph, such as the Krackhardt kite. (You’re welcome to substitute data of your own choosing).\n",
    "\n",
    "You may use a package of your own choosing, such as iGraph or NetworkX, or…? Your code should be delivered in an IPython notebook, and placed into GitHub. In your assignment link, please provide a link to your GitHub repository.\""
   ]
  },
  {
   "cell_type": "code",
   "execution_count": 7,
   "metadata": {
    "collapsed": false
   },
   "outputs": [
    {
     "data": {
      "text/html": [
       "<pre>Finished parsing file https://raw.githubusercontent.com/excelsiordata/DATA620/master/krackhardt_vertices.csv</pre>"
      ],
      "text/plain": [
       "Finished parsing file https://raw.githubusercontent.com/excelsiordata/DATA620/master/krackhardt_vertices.csv"
      ]
     },
     "metadata": {},
     "output_type": "display_data"
    },
    {
     "data": {
      "text/html": [
       "<pre>Parsing completed. Parsed 10 lines in 0.013034 secs.</pre>"
      ],
      "text/plain": [
       "Parsing completed. Parsed 10 lines in 0.013034 secs."
      ]
     },
     "metadata": {},
     "output_type": "display_data"
    },
    {
     "name": "stdout",
     "output_type": "stream",
     "text": [
      "------------------------------------------------------\n",
      "Inferred types from first 100 line(s) of file as \n",
      "column_type_hints=[str,str]\n",
      "If parsing fails due to incorrect types, you can correct\n",
      "the inferred type list above and pass it to read_csv in\n",
      "the column_type_hints argument\n",
      "------------------------------------------------------\n"
     ]
    },
    {
     "data": {
      "text/html": [
       "<pre>Finished parsing file https://raw.githubusercontent.com/excelsiordata/DATA620/master/krackhardt_vertices.csv</pre>"
      ],
      "text/plain": [
       "Finished parsing file https://raw.githubusercontent.com/excelsiordata/DATA620/master/krackhardt_vertices.csv"
      ]
     },
     "metadata": {},
     "output_type": "display_data"
    },
    {
     "data": {
      "text/html": [
       "<pre>Parsing completed. Parsed 10 lines in 0.013066 secs.</pre>"
      ],
      "text/plain": [
       "Parsing completed. Parsed 10 lines in 0.013066 secs."
      ]
     },
     "metadata": {},
     "output_type": "display_data"
    },
    {
     "data": {
      "text/html": [
       "<pre>Finished parsing file https://raw.githubusercontent.com/excelsiordata/DATA620/master/krackhardt_edges.csv</pre>"
      ],
      "text/plain": [
       "Finished parsing file https://raw.githubusercontent.com/excelsiordata/DATA620/master/krackhardt_edges.csv"
      ]
     },
     "metadata": {},
     "output_type": "display_data"
    },
    {
     "data": {
      "text/html": [
       "<pre>Parsing completed. Parsed 36 lines in 0.014038 secs.</pre>"
      ],
      "text/plain": [
       "Parsing completed. Parsed 36 lines in 0.014038 secs."
      ]
     },
     "metadata": {},
     "output_type": "display_data"
    },
    {
     "name": "stdout",
     "output_type": "stream",
     "text": [
      "------------------------------------------------------\n",
      "Inferred types from first 100 line(s) of file as \n",
      "column_type_hints=[str,str]\n",
      "If parsing fails due to incorrect types, you can correct\n",
      "the inferred type list above and pass it to read_csv in\n",
      "the column_type_hints argument\n",
      "------------------------------------------------------\n"
     ]
    },
    {
     "data": {
      "text/html": [
       "<pre>Finished parsing file https://raw.githubusercontent.com/excelsiordata/DATA620/master/krackhardt_edges.csv</pre>"
      ],
      "text/plain": [
       "Finished parsing file https://raw.githubusercontent.com/excelsiordata/DATA620/master/krackhardt_edges.csv"
      ]
     },
     "metadata": {},
     "output_type": "display_data"
    },
    {
     "data": {
      "text/html": [
       "<pre>Parsing completed. Parsed 36 lines in 0.014036 secs.</pre>"
      ],
      "text/plain": [
       "Parsing completed. Parsed 36 lines in 0.014036 secs."
      ]
     },
     "metadata": {},
     "output_type": "display_data"
    },
    {
     "data": {
      "application/javascript": [
       "$(\"head\").append($(\"<link/>\").attr({\n",
       "  rel:  \"stylesheet\",\n",
       "  type: \"text/css\",\n",
       "  href: \"//cdnjs.cloudflare.com/ajax/libs/font-awesome/4.1.0/css/font-awesome.min.css\"\n",
       "}));\n",
       "$(\"head\").append($(\"<link/>\").attr({\n",
       "  rel:  \"stylesheet\",\n",
       "  type: \"text/css\",\n",
       "  href: \"https://static.turi.com/products/graphlab-create/2.1/canvas/css/canvas.css\"\n",
       "}));\n",
       "\n",
       "            (function(){\n",
       "\n",
       "                var e = null;\n",
       "                if (typeof element == 'undefined') {\n",
       "                    var scripts = document.getElementsByTagName('script');\n",
       "                    var thisScriptTag = scripts[scripts.length-1];\n",
       "                    var parentDiv = thisScriptTag.parentNode;\n",
       "                    e = document.createElement('div');\n",
       "                    parentDiv.appendChild(e);\n",
       "                } else {\n",
       "                    e = element[0];\n",
       "                }\n",
       "\n",
       "                if (typeof requirejs !== 'undefined') {\n",
       "                    // disable load timeout; ipython_app.js is large and can take a while to load.\n",
       "                    requirejs.config({waitSeconds: 0});\n",
       "                }\n",
       "\n",
       "                require(['https://static.turi.com/products/graphlab-create/2.1/canvas/js/ipython_app.js'], function(IPythonApp){\n",
       "                    var app = new IPythonApp();\n",
       "                    app.attachView('sframe','Summary', {\"ipython\": true, \"sketch\": {\"gender\": {\"complete\": true, \"numeric\": false, \"num_unique\": 2, \"num_undefined\": 0, \"progress\": 1.0, \"frequent_items\": {\"M\": {\"frequency\": 5, \"value\": \"M\"}, \"F\": {\"frequency\": 5, \"value\": \"F\"}}, \"size\": 10}, \"name\": {\"complete\": true, \"numeric\": false, \"num_unique\": 10, \"num_undefined\": 0, \"progress\": 1.0, \"frequent_items\": {\"Heather\": {\"frequency\": 1, \"value\": \"Heather\"}, \"Ed\": {\"frequency\": 1, \"value\": \"Ed\"}, \"Diane\": {\"frequency\": 1, \"value\": \"Diane\"}, \"Fernando\": {\"frequency\": 1, \"value\": \"Fernando\"}, \"Andre\": {\"frequency\": 1, \"value\": \"Andre\"}, \"Ike\": {\"frequency\": 1, \"value\": \"Ike\"}, \"Garth\": {\"frequency\": 1, \"value\": \"Garth\"}, \"Beverly\": {\"frequency\": 1, \"value\": \"Beverly\"}, \"Carol\": {\"frequency\": 1, \"value\": \"Carol\"}, \"Jane\": {\"frequency\": 1, \"value\": \"Jane\"}}, \"size\": 10}}, \"selected_variable\": {\"name\": [\"vertices\"], \"descriptives\": {\"rows\": 10, \"columns\": 2}, \"view_component\": \"Summary\", \"view_file\": \"sframe\", \"view_params\": {\"y\": null, \"x\": null, \"columns\": [\"name\", \"gender\"], \"view\": null}, \"view_components\": [\"Summary\", \"Table\", \"Bar Chart\", \"BoxWhisker Plot\", \"Line Chart\", \"Scatter Plot\", \"Heat Map\", \"Plots\"], \"type\": \"SFrame\", \"columns\": [{\"dtype\": \"str\", \"name\": \"name\"}, {\"dtype\": \"str\", \"name\": \"gender\"}], \"column_identifiers\": [\"gender\", \"name\"]}, \"columns\": [{\"dtype\": \"str\", \"name\": \"name\"}, {\"dtype\": \"str\", \"name\": \"gender\"}]}, e);\n",
       "                });\n",
       "            })();\n",
       "        "
      ]
     },
     "metadata": {},
     "output_type": "display_data"
    },
    {
     "data": {
      "application/javascript": [
       "$(\"head\").append($(\"<link/>\").attr({\n",
       "  rel:  \"stylesheet\",\n",
       "  type: \"text/css\",\n",
       "  href: \"//cdnjs.cloudflare.com/ajax/libs/font-awesome/4.1.0/css/font-awesome.min.css\"\n",
       "}));\n",
       "$(\"head\").append($(\"<link/>\").attr({\n",
       "  rel:  \"stylesheet\",\n",
       "  type: \"text/css\",\n",
       "  href: \"https://static.turi.com/products/graphlab-create/2.1/canvas/css/canvas.css\"\n",
       "}));\n",
       "\n",
       "            (function(){\n",
       "\n",
       "                var e = null;\n",
       "                if (typeof element == 'undefined') {\n",
       "                    var scripts = document.getElementsByTagName('script');\n",
       "                    var thisScriptTag = scripts[scripts.length-1];\n",
       "                    var parentDiv = thisScriptTag.parentNode;\n",
       "                    e = document.createElement('div');\n",
       "                    parentDiv.appendChild(e);\n",
       "                } else {\n",
       "                    e = element[0];\n",
       "                }\n",
       "\n",
       "                if (typeof requirejs !== 'undefined') {\n",
       "                    // disable load timeout; ipython_app.js is large and can take a while to load.\n",
       "                    requirejs.config({waitSeconds: 0});\n",
       "                }\n",
       "\n",
       "                require(['https://static.turi.com/products/graphlab-create/2.1/canvas/js/ipython_app.js'], function(IPythonApp){\n",
       "                    var app = new IPythonApp();\n",
       "                    app.attachView('sframe','Summary', {\"ipython\": true, \"sketch\": {\"src\": {\"complete\": true, \"numeric\": false, \"num_unique\": 10, \"num_undefined\": 0, \"progress\": 1.0, \"frequent_items\": {\"Heather\": {\"frequency\": 3, \"value\": \"Heather\"}, \"Ed\": {\"frequency\": 3, \"value\": \"Ed\"}, \"Diane\": {\"frequency\": 6, \"value\": \"Diane\"}, \"Fernando\": {\"frequency\": 5, \"value\": \"Fernando\"}, \"Andre\": {\"frequency\": 4, \"value\": \"Andre\"}, \"Ike\": {\"frequency\": 2, \"value\": \"Ike\"}, \"Garth\": {\"frequency\": 5, \"value\": \"Garth\"}, \"Beverly\": {\"frequency\": 4, \"value\": \"Beverly\"}, \"Jane\": {\"frequency\": 1, \"value\": \"Jane\"}, \"Carol\": {\"frequency\": 3, \"value\": \"Carol\"}}, \"size\": 36}, \"dst\": {\"complete\": true, \"numeric\": false, \"num_unique\": 10, \"num_undefined\": 0, \"progress\": 1.0, \"frequent_items\": {\"Heather\": {\"frequency\": 3, \"value\": \"Heather\"}, \"Ed\": {\"frequency\": 3, \"value\": \"Ed\"}, \"Diane\": {\"frequency\": 6, \"value\": \"Diane\"}, \"Fernando\": {\"frequency\": 5, \"value\": \"Fernando\"}, \"Andre\": {\"frequency\": 4, \"value\": \"Andre\"}, \"Ike\": {\"frequency\": 2, \"value\": \"Ike\"}, \"Garth\": {\"frequency\": 5, \"value\": \"Garth\"}, \"Beverly\": {\"frequency\": 4, \"value\": \"Beverly\"}, \"Jane\": {\"frequency\": 1, \"value\": \"Jane\"}, \"Carol\": {\"frequency\": 3, \"value\": \"Carol\"}}, \"size\": 36}}, \"selected_variable\": {\"name\": [\"edges\"], \"descriptives\": {\"rows\": 36, \"columns\": 2}, \"view_component\": \"Summary\", \"view_file\": \"sframe\", \"view_params\": {\"y\": null, \"x\": null, \"columns\": [\"src\", \"dst\"], \"view\": null}, \"view_components\": [\"Summary\", \"Table\", \"Bar Chart\", \"BoxWhisker Plot\", \"Line Chart\", \"Scatter Plot\", \"Heat Map\", \"Plots\"], \"type\": \"SFrame\", \"columns\": [{\"dtype\": \"str\", \"name\": \"src\"}, {\"dtype\": \"str\", \"name\": \"dst\"}], \"column_identifiers\": [\"src\", \"dst\"]}, \"columns\": [{\"dtype\": \"str\", \"name\": \"src\"}, {\"dtype\": \"str\", \"name\": \"dst\"}]}, e);\n",
       "                });\n",
       "            })();\n",
       "        "
      ]
     },
     "metadata": {},
     "output_type": "display_data"
    },
    {
     "data": {
      "text/html": [
       "<pre>Counting out degree</pre>"
      ],
      "text/plain": [
       "Counting out degree"
      ]
     },
     "metadata": {},
     "output_type": "display_data"
    },
    {
     "data": {
      "text/html": [
       "<pre>Done counting out degree</pre>"
      ],
      "text/plain": [
       "Done counting out degree"
      ]
     },
     "metadata": {},
     "output_type": "display_data"
    },
    {
     "data": {
      "text/html": [
       "<pre>+-----------+-----------------------+</pre>"
      ],
      "text/plain": [
       "+-----------+-----------------------+"
      ]
     },
     "metadata": {},
     "output_type": "display_data"
    },
    {
     "data": {
      "text/html": [
       "<pre>| Iteration | L1 change in pagerank |</pre>"
      ],
      "text/plain": [
       "| Iteration | L1 change in pagerank |"
      ]
     },
     "metadata": {},
     "output_type": "display_data"
    },
    {
     "data": {
      "text/html": [
       "<pre>+-----------+-----------------------+</pre>"
      ],
      "text/plain": [
       "+-----------+-----------------------+"
      ]
     },
     "metadata": {},
     "output_type": "display_data"
    },
    {
     "data": {
      "text/html": [
       "<pre>| 1         | 2.49333               |</pre>"
      ],
      "text/plain": [
       "| 1         | 2.49333               |"
      ]
     },
     "metadata": {},
     "output_type": "display_data"
    },
    {
     "data": {
      "text/html": [
       "<pre>| 2         | 1.07733               |</pre>"
      ],
      "text/plain": [
       "| 2         | 1.07733               |"
      ]
     },
     "metadata": {},
     "output_type": "display_data"
    },
    {
     "data": {
      "text/html": [
       "<pre>| 3         | 0.738986              |</pre>"
      ],
      "text/plain": [
       "| 3         | 0.738986              |"
      ]
     },
     "metadata": {},
     "output_type": "display_data"
    },
    {
     "data": {
      "text/html": [
       "<pre>| 4         | 0.501417              |</pre>"
      ],
      "text/plain": [
       "| 4         | 0.501417              |"
      ]
     },
     "metadata": {},
     "output_type": "display_data"
    },
    {
     "data": {
      "text/html": [
       "<pre>| 5         | 0.33979               |</pre>"
      ],
      "text/plain": [
       "| 5         | 0.33979               |"
      ]
     },
     "metadata": {},
     "output_type": "display_data"
    },
    {
     "data": {
      "text/html": [
       "<pre>| 6         | 0.256258              |</pre>"
      ],
      "text/plain": [
       "| 6         | 0.256258              |"
      ]
     },
     "metadata": {},
     "output_type": "display_data"
    },
    {
     "data": {
      "text/html": [
       "<pre>| 7         | 0.170334              |</pre>"
      ],
      "text/plain": [
       "| 7         | 0.170334              |"
      ]
     },
     "metadata": {},
     "output_type": "display_data"
    },
    {
     "data": {
      "text/html": [
       "<pre>| 8         | 0.129226              |</pre>"
      ],
      "text/plain": [
       "| 8         | 0.129226              |"
      ]
     },
     "metadata": {},
     "output_type": "display_data"
    },
    {
     "data": {
      "text/html": [
       "<pre>| 9         | 0.0853165             |</pre>"
      ],
      "text/plain": [
       "| 9         | 0.0853165             |"
      ]
     },
     "metadata": {},
     "output_type": "display_data"
    },
    {
     "data": {
      "text/html": [
       "<pre>| 10        | 0.0651076             |</pre>"
      ],
      "text/plain": [
       "| 10        | 0.0651076             |"
      ]
     },
     "metadata": {},
     "output_type": "display_data"
    },
    {
     "data": {
      "text/html": [
       "<pre>| 11        | 0.0427623             |</pre>"
      ],
      "text/plain": [
       "| 11        | 0.0427623             |"
      ]
     },
     "metadata": {},
     "output_type": "display_data"
    },
    {
     "data": {
      "text/html": [
       "<pre>| 12        | 0.0328138             |</pre>"
      ],
      "text/plain": [
       "| 12        | 0.0328138             |"
      ]
     },
     "metadata": {},
     "output_type": "display_data"
    },
    {
     "data": {
      "text/html": [
       "<pre>| 13        | 0.0214502             |</pre>"
      ],
      "text/plain": [
       "| 13        | 0.0214502             |"
      ]
     },
     "metadata": {},
     "output_type": "display_data"
    },
    {
     "data": {
      "text/html": [
       "<pre>| 14        | 0.0165451             |</pre>"
      ],
      "text/plain": [
       "| 14        | 0.0165451             |"
      ]
     },
     "metadata": {},
     "output_type": "display_data"
    },
    {
     "data": {
      "text/html": [
       "<pre>| 15        | 0.0107679             |</pre>"
      ],
      "text/plain": [
       "| 15        | 0.0107679             |"
      ]
     },
     "metadata": {},
     "output_type": "display_data"
    },
    {
     "data": {
      "text/html": [
       "<pre>| 16        | 0.00834577            |</pre>"
      ],
      "text/plain": [
       "| 16        | 0.00834577            |"
      ]
     },
     "metadata": {},
     "output_type": "display_data"
    },
    {
     "data": {
      "text/html": [
       "<pre>+-----------+-----------------------+</pre>"
      ],
      "text/plain": [
       "+-----------+-----------------------+"
      ]
     },
     "metadata": {},
     "output_type": "display_data"
    },
    {
     "name": "stdout",
     "output_type": "stream",
     "text": [
      "SGraph({'num_edges': 36L, 'num_vertices': 10L})\n"
     ]
    },
    {
     "data": {
      "application/javascript": [
       "$(\"head\").append($(\"<link/>\").attr({\n",
       "  rel:  \"stylesheet\",\n",
       "  type: \"text/css\",\n",
       "  href: \"//cdnjs.cloudflare.com/ajax/libs/font-awesome/4.1.0/css/font-awesome.min.css\"\n",
       "}));\n",
       "$(\"head\").append($(\"<link/>\").attr({\n",
       "  rel:  \"stylesheet\",\n",
       "  type: \"text/css\",\n",
       "  href: \"https://static.turi.com/products/graphlab-create/2.1/canvas/css/canvas.css\"\n",
       "}));\n",
       "\n",
       "            (function(){\n",
       "\n",
       "                var e = null;\n",
       "                if (typeof element == 'undefined') {\n",
       "                    var scripts = document.getElementsByTagName('script');\n",
       "                    var thisScriptTag = scripts[scripts.length-1];\n",
       "                    var parentDiv = thisScriptTag.parentNode;\n",
       "                    e = document.createElement('div');\n",
       "                    parentDiv.appendChild(e);\n",
       "                } else {\n",
       "                    e = element[0];\n",
       "                }\n",
       "\n",
       "                if (typeof requirejs !== 'undefined') {\n",
       "                    // disable load timeout; ipython_app.js is large and can take a while to load.\n",
       "                    requirejs.config({waitSeconds: 0});\n",
       "                }\n",
       "\n",
       "                require(['https://static.turi.com/products/graphlab-create/2.1/canvas/js/ipython_app.js'], function(IPythonApp){\n",
       "                    var app = new IPythonApp();\n",
       "                    app.attachView('sgraph','View', {\"edges_labels\": null, \"selected_variable\": {\"name\": [\"g\"], \"view_file\": \"sgraph\", \"view_component\": \"View\", \"view_params\": {\"elabel_hover\": false, \"vertex_positions\": null, \"h_offset\": 0.0, \"node_size\": 300, \"ecolor\": [0.37, 0.33, 0.33], \"elabel\": null, \"arrows\": true, \"ewidth\": 1, \"vlabel\": \"id\", \"highlight_color\": [[0.69, 0.0, 0.498]], \"vcolor\": [0.522, 0.741, 0.0], \"vlabel_hover\": false, \"highlight\": {\"Diane\": [0.69, 0.0, 0.498]}, \"v_offset\": 0.03}, \"view_components\": [\"View\"], \"type\": \"SGraph\", \"descriptives_links\": {\"edges\": \"edges\", \"vertices\": \"vertices\"}, \"descriptives\": {\"edges\": 36, \"vertices\": 10}}, \"positions\": null, \"error_type\": 0, \"vertices\": [\"Fernando\", \"Beverly\", \"Jane\", \"Ed\", \"Diane\", \"Garth\", \"Andre\", \"Carol\", \"Ike\", \"Heather\"], \"vertices_labels\": [\"Fernando\", \"Beverly\", \"Jane\", \"Ed\", \"Diane\", \"Garth\", \"Andre\", \"Carol\", \"Ike\", \"Heather\"], \"edges\": [[\"Fernando\", \"Diane\"], [\"Beverly\", \"Diane\"], [\"Beverly\", \"Ed\"], [\"Fernando\", \"Garth\"], [\"Beverly\", \"Garth\"], [\"Fernando\", \"Andre\"], [\"Beverly\", \"Andre\"], [\"Fernando\", \"Carol\"], [\"Fernando\", \"Heather\"], [\"Diane\", \"Fernando\"], [\"Diane\", \"Beverly\"], [\"Ed\", \"Beverly\"], [\"Diane\", \"Ed\"], [\"Ed\", \"Diane\"], [\"Ed\", \"Garth\"], [\"Diane\", \"Garth\"], [\"Diane\", \"Andre\"], [\"Diane\", \"Carol\"], [\"Jane\", \"Ike\"], [\"Garth\", \"Fernando\"], [\"Garth\", \"Beverly\"], [\"Garth\", \"Diane\"], [\"Garth\", \"Ed\"], [\"Garth\", \"Heather\"], [\"Andre\", \"Beverly\"], [\"Andre\", \"Fernando\"], [\"Andre\", \"Diane\"], [\"Andre\", \"Carol\"], [\"Carol\", \"Fernando\"], [\"Carol\", \"Diane\"], [\"Carol\", \"Andre\"], [\"Heather\", \"Fernando\"], [\"Ike\", \"Jane\"], [\"Heather\", \"Garth\"], [\"Ike\", \"Heather\"], [\"Heather\", \"Ike\"]], \"ipython\": true, \"error_msg\": \"\"}, e);\n",
       "                });\n",
       "            })();\n",
       "        "
      ]
     },
     "metadata": {},
     "output_type": "display_data"
    }
   ],
   "source": [
    "import graphlab as gl\n",
    "gl.canvas.set_target('ipynb')\n",
    "\n",
    "vertices = gl.SFrame.read_csv('https://raw.githubusercontent.com/excelsiordata/DATA620/master/krackhardt_vertices.csv')\n",
    "edges = gl.SFrame.read_csv('https://raw.githubusercontent.com/excelsiordata/DATA620/master/krackhardt_edges.csv')\n",
    "\n",
    "vertices.show()\n",
    "edges.show()\n",
    "\n",
    "g = gl.SGraph()\n",
    "\n",
    "g = g.add_vertices(vertices=vertices, vid_field='name')\n",
    "g = g.add_edges(edges=edges, src_field='src', dst_field='dst')\n",
    "\n",
    "g.get_vertices()\n",
    "g.get_edges()\n",
    "\n",
    "pr = gl.pagerank.create(g)\n",
    "\n",
    "pr.get('pagerank').topk(column_name='pagerank')\n",
    "\n",
    "print g\n",
    "\n",
    "g.show(vlabel='id', highlight=['Diane'], arrows=True)\n"
   ]
  },
  {
   "cell_type": "raw",
   "metadata": {},
   "source": []
  },
  {
   "cell_type": "code",
   "execution_count": null,
   "metadata": {
    "collapsed": true
   },
   "outputs": [],
   "source": []
  }
 ],
 "metadata": {
  "kernelspec": {
   "display_name": "Python 2",
   "language": "python",
   "name": "python2"
  },
  "language_info": {
   "codemirror_mode": {
    "name": "ipython",
    "version": 2
   },
   "file_extension": ".py",
   "mimetype": "text/x-python",
   "name": "python",
   "nbconvert_exporter": "python",
   "pygments_lexer": "ipython2",
   "version": "2.7.11"
  }
 },
 "nbformat": 4,
 "nbformat_minor": 0
}
